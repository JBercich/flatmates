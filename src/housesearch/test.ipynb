{
 "cells": [
  {
   "cell_type": "code",
   "execution_count": null,
   "metadata": {},
   "outputs": [],
   "source": []
  },
  {
   "cell_type": "code",
   "execution_count": 5,
   "metadata": {},
   "outputs": [],
   "source": [
    "#!/usr/bin/env python3\n",
    "# -*- coding:utf-8 -*-\n",
    "\n",
    "import enum\n",
    "\n",
    "# https://flatmates.com.au/granny-flats+share-houses+student-accommodation+studios+whole-properties+1-beds/sydney/males+private-room?page=1\n",
    "\n",
    "\n",
    "# https://flatmates.com.au/whole-properties+1-beds+homestays/sydney/males+private-room?search_source=search_function\n",
    "\n",
    "\n",
    "@enum.unique\n",
    "class ExtraOptions(str, enum.Enum):\n",
    "    BILLS_INCLUDED = \"bills-included\"\n",
    "    PRIVATE_ROOM = \"private-room\"\n",
    "    SHARED_ROOM = \"shared-room\"\n",
    "    ALLOW_MALES = \"males\"\n",
    "    FURNISHED = \"furnished\"\n",
    "    UNFURNISHED = \"unfurnished\"\n",
    "    OWN = \"ensuite-or-own\"\n",
    "    ENSUITE = \"ensuite\"\n",
    "    MIN_AMOUNT = \"min-{amount}\"\n",
    "    MAX_AMOUNT = \"max-{amount}\"\n",
    "\n",
    "\n",
    "@enum.unique\n",
    "class AccomodationFilter(str, enum.Enum):\n",
    "    \"\"\"Accommodation type filter.\"\"\"\n",
    "\n",
    "    DEFAULT = \"rooms\"\n",
    "    PROPERTY = \"whole-properties\"\n",
    "    SINGLE_FLAT = \"1-beds\"\n",
    "    HOMESTAY = \"homestays\"\n",
    "    GRANNY_FLAT = \"granny-flats\"\n",
    "    SHARE_HOUSE = \"share-houses\"\n",
    "    STUDENT_ACCOMMODATION = \"student-accommodation\"\n",
    "    STUDIO = \"studios\"\n",
    "\n",
    "\n",
    "@enum.unique\n",
    "class LocationFilter(str, enum.Enum):\n",
    "    \"\"\"Accommodation location filter.\"\"\"\n",
    "\n",
    "    MELBOURNE = \"melbourne\"\n",
    "    SYDNEY = \"sydney\"\n",
    "    BRISBANE = \"brisbane\"\n",
    "    PERTH = \"perth\"\n",
    "    CANBERRA = \"canberra\"\n",
    "    ADELAIDE = \"adelaide\"\n",
    "    HOBART = \"hobart\"\n",
    "    GOLD_COAST = \"gold-coast\"\n",
    "    SUNSHINE_COAST = \"sunshine-coast\"\n",
    "\n",
    "\n",
    "import bs4\n",
    "import requests\n",
    "\n",
    "# x = \"https://flatmates.com.au/whole-properties+1-beds+homestays/sydney/?search_source=search_function?page=1\"\n",
    "\n",
    "# z = requests.get(x).text\n",
    "\n",
    "# print(bs4.BeautifulSoup(z, \"html.parser\").select(\"styles__resultsWrapper___3AJFd\"))\n"
   ]
  },
  {
   "cell_type": "code",
   "execution_count": 4,
   "metadata": {},
   "outputs": [],
   "source": [
    "soup = bs4.BeautifulSoup(z, \"html.parser\")"
   ]
  },
  {
   "cell_type": "code",
   "execution_count": null,
   "metadata": {},
   "outputs": [],
   "source": [
    "soup.select(\"a[aria-label]\")"
   ]
  },
  {
   "cell_type": "code",
   "execution_count": 6,
   "metadata": {},
   "outputs": [],
   "source": [
    "from urllib.parse import urljoin\n",
    "\n",
    "import requests\n",
    "from bs4 import BeautifulSoup"
   ]
  },
  {
   "cell_type": "code",
   "execution_count": null,
   "metadata": {},
   "outputs": [],
   "source": [
    "# https://flatmates.com.au/granny-flats+share-houses+student-accommodation+studios+whole-properties+1-beds/sydney/males+private-room?page=1\n",
    "from urllib.parse import urljoin\n",
    "\n",
    "import requests\n",
    "from bs4 import BeautifulSoup\n",
    "\n",
    "baseurl: str = \"https://flatmates.com.au/\"\n",
    "options: str = \"/{housing_selection}/{location}/{options_selection}?page={page_number}\"\n",
    "\n",
    "for i in range(1, 230):\n",
    "    opts_url: str = options.format(\n",
    "        housing_selection=\"share-houses\",\n",
    "        location=\"sydney\",\n",
    "        options_selection=\"males+private-room\",\n",
    "        page_number=i,\n",
    "    )\n",
    "\n",
    "    url: str = urljoin(baseurl, opts_url)\n",
    "    print(url)\n",
    "    # print(requests.get(url).cookies)\n",
    "    cookies = requests.get(url).cookies\n",
    "    print(requests.get(url, cookies=cookies).headers)\n",
    "    break\n",
    "    # print(requests.get(urljoin(baseurl, opts_url)).text)\n",
    "    # break\n",
    "    soup = BeautifulSoup(\n",
    "        requests.get(\"https://flatmates.com.au/sydney/males+private-room?page=1\").text,\n",
    "        \"html.parser\",\n",
    "    )\n",
    "    print(soup)\n",
    "    # print(i, len(soup.select(\"a[aria-label]\")))\n",
    "    break"
   ]
  },
  {
   "cell_type": "code",
   "execution_count": null,
   "metadata": {},
   "outputs": [],
   "source": [
    "baseurl: str = \"https://flatmates.com.au/\"\n",
    "options: str = \"/{housing_selection}/{location}/{options_selection}?page={page_number}\"\n",
    "\n",
    "opts_url: str = options.format(\n",
    "    housing_selection=\"share-houses\",\n",
    "    location=\"sydney\",\n",
    "    options_selection=\"private-room\",\n",
    "    page_number=1,\n",
    ")\n",
    "url: str = urljoin(baseurl, opts_url)\n",
    "print(url)\n",
    "result = requests.post(url)"
   ]
  },
  {
   "cell_type": "code",
   "execution_count": null,
   "metadata": {},
   "outputs": [],
   "source": [
    "x"
   ]
  },
  {
   "cell_type": "code",
   "execution_count": null,
   "metadata": {},
   "outputs": [],
   "source": [
    "import requests\n",
    "\n",
    "x = requests.get(\"https://flatmates.com.au/share-houses/sydney/private-room?page=1\")"
   ]
  },
  {
   "cell_type": "code",
   "execution_count": 8,
   "metadata": {},
   "outputs": [],
   "source": [
    "soup = BeautifulSoup(x.content, \"html.parser\")\n",
    "# soup.select(\"a[aria-label]\")\n",
    "listings = soup.find_all(\"a\", {\"class\": \"styles__contentBox___37_w9\"})\n"
   ]
  },
  {
   "cell_type": "code",
   "execution_count": 115,
   "metadata": {},
   "outputs": [],
   "source": [
    "from typing import Any\n",
    "from geopy.geocoders import Nominatim\n",
    "\n",
    "\n",
    "class GeoLocator:\n",
    "    _USER_AGENT: str = \"FlatmatesApiSearch\"\n",
    "\n",
    "    def __init__(self):\n",
    "        self._locator: Nominatim = Nominatim(user_agent=self._USER_AGENT)\n",
    "\n",
    "    def locate(self, location: str) -> tuple[str, float, float]:\n",
    "        pos: Any = self._locator.geocode(location)\n",
    "        return pos.address, pos.latitude, pos.longitude"
   ]
  },
  {
   "cell_type": "code",
   "execution_count": 116,
   "metadata": {},
   "outputs": [],
   "source": [
    "from datetime import datetime\n",
    "\n",
    "import bs4\n",
    "import pandas as pd\n",
    "\n",
    "locator: GeoLocator = GeoLocator()\n",
    "\n",
    "\n",
    "def parse_listing_tile_address(tag: bs4.Tag) -> dict[str, Any]:\n",
    "    data: list[str] = tag.find(\"p\", {\"class\": \"styles__address___28Scu\"}).contents\n",
    "    address, latitude, longitude = locator.locate(data[0])\n",
    "    return {\"address\": address, \"latitude\": latitude, \"longitude\": longitude}\n",
    "\n",
    "\n",
    "def parse_listing_tile_price(tag: bs4.Tag) -> dict[str, Any]:\n",
    "    data: list[str] = tag.find(\"p\", {\"class\": \"styles__price___3Jhqs\"}).contents\n",
    "    return {\n",
    "        \"price\": float(data[0].lstrip(\"$\").split(\"-\")[0]),\n",
    "        \"paid_weekly\": any([\"/ week\" in c for c in data]),\n",
    "        \"bills_included\": any([\"inc. bills\" in c for c in data]),\n",
    "    }\n",
    "\n",
    "\n",
    "def parse_listing_tile_availability(tag: bs4.Tag) -> dict[str, Any]:\n",
    "    data: list[str] = tag.find(\"p\", {\"class\": \"styles__availability___UzGsZ\"}).contents\n",
    "    time: datetime = datetime.now()\n",
    "    if (time_str := data[0].lower().lstrip(\"available \")) != \"now\":\n",
    "        time = datetime.strptime(time_str, \"%d %B %Y\")\n",
    "    return {\"available\": time.date()}\n",
    "\n",
    "\n",
    "def parse_listing_tile_amenities(tag: bs4.Tag) -> dict[str, Any]:\n",
    "    data: list = tag.find_all(\"div\", {\"class\": \"styles__propertyFeature___uH480\"})\n",
    "    return {\"bedrooms\": data[0].text, \"bathrooms\": data[1].text, \"people\": data[2].text}\n",
    "\n",
    "\n",
    "def parse_listing_tile_extra_info(tag: bs4.Tag) -> dict[str, Any]:\n",
    "    data: list = tag.find(\"p\", {\"class\": \"styles__roomInfo___1BEdy\"})\n",
    "    return {\"extra_info\": data.contents[0]}\n",
    "\n",
    "\n",
    "def parse_listing_tile_link(tag: bs4.Tag) -> dict[str, Any]:\n",
    "    return {\"link\": urljoin(\"https://flatmates.com.au\", tag.get(\"href\"))}\n",
    "\n",
    "\n",
    "def parse_listing_tile(tile: bs4.Tag) -> dict[str, Any]:\n",
    "    results: dict[str, Any] = {}\n",
    "    results |= parse_listing_tile_address(tile)\n",
    "    results |= parse_listing_tile_price(tile)\n",
    "    results |= parse_listing_tile_availability(tile)\n",
    "    results |= parse_listing_tile_amenities(tile)\n",
    "    results |= parse_listing_tile_extra_info(tile)\n",
    "    results |= parse_listing_tile_link(tile)\n",
    "    return results\n"
   ]
  },
  {
   "cell_type": "code",
   "execution_count": null,
   "metadata": {},
   "outputs": [],
   "source": [
    "import pathlib\n",
    "\n",
    "\n",
    "def download_flatmates_listings(\n",
    "    baseurl: str,\n",
    "    csv_path: pathlib.Path,\n",
    "    max_page: int = 250,\n",
    ") -> pd.DataFrame:\n",
    "    df: pd.DataFrame = pd.DataFrame()\n",
    "    if csv_path.exists() and csv_path.is_file():\n",
    "        df = pd.read_csv(index_col=None)\n",
    "\n",
    "\n",
    "baseurl: str = \"https://flatmates.com.au/rooms/sydney/males+private-room?page={page}\"\n",
    "csv_path: pathlib.Path = pathlib.Path(\"./flatmates_csv_data.csv\")\n",
    "download_flatmates_listings(baseurl, csv_path)\n",
    "# soup = BeautifulSoup(x, \"html.parser\")\n",
    "# # soup.select(\"a[aria-label]\")\n",
    "# for i in range(1, 293):\n",
    "#     data: dict[str, Any] = {\"page\": i}\n",
    "#     print(f\"Start:  https://flatmates.com.au/rooms/sydney/males+private-room?page={i}\")\n",
    "#     # x = requests.get(\"https://flatmates.com.au/share-houses/sydney/private-room?page=1\")\n",
    "#     listings = soup.find_all(\"a\", {\"class\": \"styles__contentBox___37_w9\"})\n",
    "#     for j, page_data in enumerate(listings, 1):\n",
    "#         data[\"listing\"] = j\n",
    "#         df = pd.concat(df, parse_listing_tile(page_data) | data)\n",
    "#     # pd.DataFrame([parse_listing_tile(tile) for tile in listings])\n",
    "#     print(f\"Stop:   https://flatmates.com.au/rooms/sydney/males+private-room?page={i}\")"
   ]
  },
  {
   "cell_type": "code",
   "execution_count": null,
   "metadata": {},
   "outputs": [],
   "source": [
    "dict(x.headers)[\"cache-control\"]"
   ]
  },
  {
   "cell_type": "code",
   "execution_count": null,
   "metadata": {},
   "outputs": [],
   "source": [
    "bs4.BeautifulSoup(client.get(\"https://flatmates.com.au/people/?page=1\"))"
   ]
  },
  {
   "cell_type": "code",
   "execution_count": 70,
   "metadata": {},
   "outputs": [],
   "source": [
    "import requests"
   ]
  }
 ],
 "metadata": {
  "kernelspec": {
   "display_name": ".venv",
   "language": "python",
   "name": "python3"
  },
  "language_info": {
   "codemirror_mode": {
    "name": "ipython",
    "version": 3
   },
   "file_extension": ".py",
   "mimetype": "text/x-python",
   "name": "python",
   "nbconvert_exporter": "python",
   "pygments_lexer": "ipython3",
   "version": "3.13.0"
  }
 },
 "nbformat": 4,
 "nbformat_minor": 2
}
